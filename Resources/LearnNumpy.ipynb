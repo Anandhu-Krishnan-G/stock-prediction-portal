{
 "cells": [
  {
   "cell_type": "code",
   "execution_count": 1,
   "id": "8037610b-90da-4e63-a38c-1b05b9b7e1d5",
   "metadata": {},
   "outputs": [],
   "source": [
    "import numpy as np"
   ]
  },
  {
   "cell_type": "code",
   "execution_count": 2,
   "id": "00155a89-d1f0-42bb-b71e-830f6eab1053",
   "metadata": {},
   "outputs": [
    {
     "data": {
      "text/plain": [
       "'2.3.1'"
      ]
     },
     "execution_count": 2,
     "metadata": {},
     "output_type": "execute_result"
    }
   ],
   "source": [
    "np.__version__"
   ]
  },
  {
   "cell_type": "markdown",
   "id": "189ea0a1-422b-477f-ab54-b4ddff1792c7",
   "metadata": {},
   "source": [
    "## Create and Read esc + m + shift + enter"
   ]
  },
  {
   "cell_type": "markdown",
   "id": "14060791-314f-4ea8-9f52-66addad90b26",
   "metadata": {},
   "source": [
    "#### 1D array"
   ]
  },
  {
   "cell_type": "code",
   "execution_count": 4,
   "id": "88acd5c9-824e-4a37-a34e-e370d310ec0d",
   "metadata": {},
   "outputs": [
    {
     "data": {
      "text/plain": [
       "array([1, 2, 3, 4, 5])"
      ]
     },
     "execution_count": 4,
     "metadata": {},
     "output_type": "execute_result"
    }
   ],
   "source": [
    "arr1=np.array([1,2,3,4,5])\n",
    "arr1"
   ]
  },
  {
   "cell_type": "code",
   "execution_count": 5,
   "id": "92c64d21-e3c3-492a-8d43-1ba01198d8ee",
   "metadata": {},
   "outputs": [
    {
     "data": {
      "text/plain": [
       "numpy.ndarray"
      ]
     },
     "execution_count": 5,
     "metadata": {},
     "output_type": "execute_result"
    }
   ],
   "source": [
    "type(arr1)"
   ]
  },
  {
   "cell_type": "code",
   "execution_count": 7,
   "id": "7016143f-2c6c-4d67-b320-8c6e09693947",
   "metadata": {},
   "outputs": [
    {
     "data": {
      "text/plain": [
       "(5,)"
      ]
     },
     "execution_count": 7,
     "metadata": {},
     "output_type": "execute_result"
    }
   ],
   "source": [
    "arr1.shape"
   ]
  },
  {
   "cell_type": "raw",
   "id": "517c4b01-ed74-44f8-a901-5c95ad1f9dca",
   "metadata": {},
   "source": [
    "arr1.dtype"
   ]
  },
  {
   "cell_type": "code",
   "execution_count": 8,
   "id": "84399bcb-697c-4f82-a49a-477663663103",
   "metadata": {},
   "outputs": [
    {
     "data": {
      "text/plain": [
       "array([1, 2, 3, 4, 5])"
      ]
     },
     "execution_count": 8,
     "metadata": {},
     "output_type": "execute_result"
    }
   ],
   "source": [
    "arr1"
   ]
  },
  {
   "cell_type": "code",
   "execution_count": 9,
   "id": "fc321b93-4c23-4789-9706-aab18260ad07",
   "metadata": {},
   "outputs": [
    {
     "data": {
      "text/plain": [
       "1"
      ]
     },
     "execution_count": 9,
     "metadata": {},
     "output_type": "execute_result"
    }
   ],
   "source": [
    "arr1.ndim"
   ]
  },
  {
   "cell_type": "code",
   "execution_count": 10,
   "id": "e799b609-8423-4828-b5fd-fcda52a14ff5",
   "metadata": {},
   "outputs": [
    {
     "data": {
      "text/plain": [
       "5"
      ]
     },
     "execution_count": 10,
     "metadata": {},
     "output_type": "execute_result"
    }
   ],
   "source": [
    "arr1.size"
   ]
  },
  {
   "cell_type": "code",
   "execution_count": 12,
   "id": "72f93972-7a74-49a2-9a2e-8e86d7693d40",
   "metadata": {},
   "outputs": [
    {
     "data": {
      "text/plain": [
       "array([[1, 2, 3],\n",
       "       [4, 5, 6]])"
      ]
     },
     "execution_count": 12,
     "metadata": {},
     "output_type": "execute_result"
    }
   ],
   "source": [
    "arr2=np.array([[1,2,3],[4,5,6]])\n",
    "arr2"
   ]
  },
  {
   "cell_type": "code",
   "execution_count": 13,
   "id": "5ba6b676-4481-4ba6-8ca1-e9b996974c04",
   "metadata": {},
   "outputs": [
    {
     "data": {
      "text/plain": [
       "2"
      ]
     },
     "execution_count": 13,
     "metadata": {},
     "output_type": "execute_result"
    }
   ],
   "source": [
    "arr2.ndim #give dimension of the array"
   ]
  },
  {
   "cell_type": "code",
   "execution_count": 14,
   "id": "736f286a-40c7-45a9-a361-2d5ec333a284",
   "metadata": {},
   "outputs": [
    {
     "data": {
      "text/plain": [
       "(2, 3)"
      ]
     },
     "execution_count": 14,
     "metadata": {},
     "output_type": "execute_result"
    }
   ],
   "source": [
    "arr2.shape #(rows,colums)"
   ]
  },
  {
   "cell_type": "code",
   "execution_count": 15,
   "id": "8e11b3fb-57a6-4f2c-a86b-4df41768c191",
   "metadata": {},
   "outputs": [
    {
     "data": {
      "text/plain": [
       "dtype('int64')"
      ]
     },
     "execution_count": 15,
     "metadata": {},
     "output_type": "execute_result"
    }
   ],
   "source": [
    "arr2.dtype"
   ]
  },
  {
   "cell_type": "code",
   "execution_count": 16,
   "id": "ae07e2ca-a196-4068-a79e-eae2ac8a5ec2",
   "metadata": {},
   "outputs": [
    {
     "data": {
      "text/plain": [
       "6"
      ]
     },
     "execution_count": 16,
     "metadata": {},
     "output_type": "execute_result"
    }
   ],
   "source": [
    "arr2.size"
   ]
  },
  {
   "cell_type": "code",
   "execution_count": 22,
   "id": "fa0cd989-d8bf-4431-a66f-12f682416dc9",
   "metadata": {},
   "outputs": [
    {
     "data": {
      "text/plain": [
       "array([[[1, 2, 3],\n",
       "        [4, 5, 6]],\n",
       "\n",
       "       [[7, 8, 9],\n",
       "        [4, 2, 9]],\n",
       "\n",
       "       [[7, 8, 9],\n",
       "        [4, 2, 9]]])"
      ]
     },
     "execution_count": 22,
     "metadata": {},
     "output_type": "execute_result"
    }
   ],
   "source": [
    "arr3=np.array([[[1,2,3],[4,5,6]],[[7,8,9],[4,2,9]],[[7,8,9],[4,2,9]]])\n",
    "arr3"
   ]
  },
  {
   "cell_type": "code",
   "execution_count": 23,
   "id": "8f6c26aa-4986-4105-bb38-a1fd5f017f62",
   "metadata": {},
   "outputs": [
    {
     "data": {
      "text/plain": [
       "(3, 2, 3)"
      ]
     },
     "execution_count": 23,
     "metadata": {},
     "output_type": "execute_result"
    }
   ],
   "source": [
    "arr3.shape"
   ]
  },
  {
   "cell_type": "code",
   "execution_count": 24,
   "id": "e96205ab-3696-4ad0-a3bf-642799187591",
   "metadata": {},
   "outputs": [
    {
     "data": {
      "text/plain": [
       "3"
      ]
     },
     "execution_count": 24,
     "metadata": {},
     "output_type": "execute_result"
    }
   ],
   "source": [
    "arr3.ndim"
   ]
  },
  {
   "cell_type": "code",
   "execution_count": 27,
   "id": "6ff806b3-d5d8-4fdd-9526-468c05dd944e",
   "metadata": {},
   "outputs": [
    {
     "data": {
      "text/plain": [
       "18"
      ]
     },
     "execution_count": 27,
     "metadata": {},
     "output_type": "execute_result"
    }
   ],
   "source": [
    "arr3.size"
   ]
  },
  {
   "cell_type": "markdown",
   "id": "14847fbb-9b89-4f9c-b7ab-9c493eda663b",
   "metadata": {},
   "source": [
    "###Create Random Array  "
   ]
  },
  {
   "cell_type": "code",
   "execution_count": 29,
   "id": "22ef5803-279f-4de4-879e-c7c7c8e2feae",
   "metadata": {},
   "outputs": [
    {
     "data": {
      "text/plain": [
       "array([[[0.03623967, 0.40264496, 0.03353441],\n",
       "        [0.71118708, 0.51966953, 0.50765206]],\n",
       "\n",
       "       [[0.01770936, 0.62846853, 0.8612876 ],\n",
       "        [0.14569804, 0.06621794, 0.27764985]],\n",
       "\n",
       "       [[0.82584558, 0.01091538, 0.24430635],\n",
       "        [0.59686898, 0.12238389, 0.97991824]]])"
      ]
     },
     "execution_count": 29,
     "metadata": {},
     "output_type": "execute_result"
    }
   ],
   "source": [
    "randomArr=np.random.rand(3,2,3)\n",
    "randomArr"
   ]
  },
  {
   "cell_type": "code",
   "execution_count": 30,
   "id": "4e03302d-27df-48e3-9317-2c226928426e",
   "metadata": {},
   "outputs": [
    {
     "data": {
      "text/plain": [
       "dtype('float64')"
      ]
     },
     "execution_count": 30,
     "metadata": {},
     "output_type": "execute_result"
    }
   ],
   "source": [
    "randomArr.dtype"
   ]
  },
  {
   "cell_type": "code",
   "execution_count": 32,
   "id": "3731ed5d-4766-4cd6-9968-384286fc113a",
   "metadata": {},
   "outputs": [
    {
     "data": {
      "text/plain": [
       "array([[[0., 0., 0.],\n",
       "        [0., 0., 0.]],\n",
       "\n",
       "       [[0., 0., 0.],\n",
       "        [0., 0., 0.]],\n",
       "\n",
       "       [[0., 0., 0.],\n",
       "        [0., 0., 0.]]])"
      ]
     },
     "execution_count": 32,
     "metadata": {},
     "output_type": "execute_result"
    }
   ],
   "source": [
    "zeroes=np.zeros((3,2,3))\n",
    "zeroes"
   ]
  },
  {
   "cell_type": "code",
   "execution_count": 33,
   "id": "8a029007-a046-4dee-be0a-bdde0f2f537b",
   "metadata": {},
   "outputs": [
    {
     "data": {
      "text/plain": [
       "3"
      ]
     },
     "execution_count": 33,
     "metadata": {},
     "output_type": "execute_result"
    }
   ],
   "source": [
    "zeroes.ndim"
   ]
  },
  {
   "cell_type": "code",
   "execution_count": 34,
   "id": "b7771747-8fc4-4a45-9b90-32927413f34f",
   "metadata": {},
   "outputs": [
    {
     "data": {
      "text/plain": [
       "array([[[7, 7, 7],\n",
       "        [7, 7, 7]],\n",
       "\n",
       "       [[7, 7, 7],\n",
       "        [7, 7, 7]],\n",
       "\n",
       "       [[7, 7, 7],\n",
       "        [7, 7, 7]]])"
      ]
     },
     "execution_count": 34,
     "metadata": {},
     "output_type": "execute_result"
    }
   ],
   "source": [
    "full=np.full((3,2,3),7)\n",
    "full"
   ]
  },
  {
   "cell_type": "code",
   "execution_count": 35,
   "id": "9f62d44a-d974-41e8-a118-9468c04618f3",
   "metadata": {},
   "outputs": [
    {
     "data": {
      "text/plain": [
       "array([[[1., 1., 1.],\n",
       "        [1., 1., 1.]],\n",
       "\n",
       "       [[1., 1., 1.],\n",
       "        [1., 1., 1.]],\n",
       "\n",
       "       [[1., 1., 1.],\n",
       "        [1., 1., 1.]]])"
      ]
     },
     "execution_count": 35,
     "metadata": {},
     "output_type": "execute_result"
    }
   ],
   "source": [
    "ones=np.ones((3,2,3))\n",
    "ones"
   ]
  },
  {
   "cell_type": "code",
   "execution_count": 36,
   "id": "144fddbd-965f-4cb7-96b3-b1f82b84a2c0",
   "metadata": {},
   "outputs": [
    {
     "data": {
      "text/plain": [
       "array([[[1, 2, 3],\n",
       "        [4, 5, 6]],\n",
       "\n",
       "       [[7, 8, 9],\n",
       "        [4, 2, 9]],\n",
       "\n",
       "       [[7, 8, 9],\n",
       "        [4, 2, 9]]])"
      ]
     },
     "execution_count": 36,
     "metadata": {},
     "output_type": "execute_result"
    }
   ],
   "source": [
    "arr3"
   ]
  },
  {
   "cell_type": "code",
   "execution_count": 37,
   "id": "daf3a5d8-0c43-408c-8ae9-7335cac883e8",
   "metadata": {},
   "outputs": [
    {
     "data": {
      "text/plain": [
       "array([[1, 2, 3],\n",
       "       [4, 5, 6]])"
      ]
     },
     "execution_count": 37,
     "metadata": {},
     "output_type": "execute_result"
    }
   ],
   "source": [
    "arr3[0]"
   ]
  },
  {
   "cell_type": "code",
   "execution_count": 38,
   "id": "3fc3df52-b8ec-4580-a644-a399fa8ce4dd",
   "metadata": {},
   "outputs": [
    {
     "data": {
      "text/plain": [
       "array([1, 2, 3])"
      ]
     },
     "execution_count": 38,
     "metadata": {},
     "output_type": "execute_result"
    }
   ],
   "source": [
    "arr3[0][0]"
   ]
  },
  {
   "cell_type": "code",
   "execution_count": 39,
   "id": "085e2cdf-a03b-4e32-b193-23c788c2ea4c",
   "metadata": {},
   "outputs": [
    {
     "data": {
      "text/plain": [
       "np.int64(1)"
      ]
     },
     "execution_count": 39,
     "metadata": {},
     "output_type": "execute_result"
    }
   ],
   "source": [
    "arr3[0][0][0]"
   ]
  },
  {
   "cell_type": "code",
   "execution_count": 40,
   "id": "a6c0c271-687b-4f33-8bcc-5a783b3409bb",
   "metadata": {},
   "outputs": [
    {
     "data": {
      "text/plain": [
       "array([[[1, 2, 3],\n",
       "        [4, 5, 6]],\n",
       "\n",
       "       [[7, 8, 9],\n",
       "        [4, 2, 9]],\n",
       "\n",
       "       [[7, 8, 9],\n",
       "        [4, 2, 9]]])"
      ]
     },
     "execution_count": 40,
     "metadata": {},
     "output_type": "execute_result"
    }
   ],
   "source": [
    "arr3"
   ]
  },
  {
   "cell_type": "code",
   "execution_count": 41,
   "id": "3787b9ca-65b6-4d6a-bc21-d1043693031f",
   "metadata": {},
   "outputs": [
    {
     "data": {
      "text/plain": [
       "array([[1, 2, 3],\n",
       "       [4, 5, 6]])"
      ]
     },
     "execution_count": 41,
     "metadata": {},
     "output_type": "execute_result"
    }
   ],
   "source": [
    "arr3[0]"
   ]
  },
  {
   "cell_type": "code",
   "execution_count": 42,
   "id": "d9fe2b02-4a2e-4d88-99c4-9aae6b51511c",
   "metadata": {},
   "outputs": [
    {
     "data": {
      "text/plain": [
       "array([[[1, 2, 3],\n",
       "        [4, 5, 6]],\n",
       "\n",
       "       [[7, 8, 9],\n",
       "        [4, 2, 9]]])"
      ]
     },
     "execution_count": 42,
     "metadata": {},
     "output_type": "execute_result"
    }
   ],
   "source": [
    "arr3[0:2]"
   ]
  },
  {
   "cell_type": "code",
   "execution_count": 43,
   "id": "d45e3c15-2bb5-419b-9df2-1ecedfc29e7e",
   "metadata": {},
   "outputs": [
    {
     "data": {
      "text/plain": [
       "array([[7, 8, 9],\n",
       "       [4, 2, 9]])"
      ]
     },
     "execution_count": 43,
     "metadata": {},
     "output_type": "execute_result"
    }
   ],
   "source": [
    "arr3[-1]"
   ]
  },
  {
   "cell_type": "code",
   "execution_count": 45,
   "id": "92582847-e5be-4623-a582-1d6edce417e9",
   "metadata": {},
   "outputs": [
    {
     "data": {
      "text/plain": [
       "np.int64(9)"
      ]
     },
     "execution_count": 45,
     "metadata": {},
     "output_type": "execute_result"
    }
   ],
   "source": [
    "arr3[1,0,2]"
   ]
  },
  {
   "cell_type": "markdown",
   "id": "e6eff825-8a0e-4bad-998e-0147b2572bb7",
   "metadata": {},
   "source": [
    "##Update and Delete"
   ]
  },
  {
   "cell_type": "code",
   "execution_count": 46,
   "id": "4b1862aa-2c1a-4284-8101-1beb2d18a3c4",
   "metadata": {},
   "outputs": [],
   "source": [
    "a1=np.random.rand(2, 3, 2)\n",
    "a2=np.random.rand(2, 3, 2)"
   ]
  },
  {
   "cell_type": "code",
   "execution_count": 47,
   "id": "ccb5d738-cbc9-41d5-bd7a-6f00e28ade97",
   "metadata": {},
   "outputs": [
    {
     "data": {
      "text/plain": [
       "array([[[0.65229988, 0.931707  ],\n",
       "        [0.22515079, 0.57483948],\n",
       "        [0.7340419 , 0.95220008]],\n",
       "\n",
       "       [[0.26782666, 0.5627539 ],\n",
       "        [0.95707537, 0.35954986],\n",
       "        [0.96362051, 0.27902397]]])"
      ]
     },
     "execution_count": 47,
     "metadata": {},
     "output_type": "execute_result"
    }
   ],
   "source": [
    "a1"
   ]
  },
  {
   "cell_type": "code",
   "execution_count": 48,
   "id": "e7a3c37a-9b2b-4c16-a1a0-09a21470bb59",
   "metadata": {},
   "outputs": [
    {
     "data": {
      "text/plain": [
       "array([[[0.48158448, 0.57207755],\n",
       "        [0.30981753, 0.85965885],\n",
       "        [0.39201826, 0.178259  ]],\n",
       "\n",
       "       [[0.15272854, 0.8605106 ],\n",
       "        [0.9103063 , 0.1268464 ],\n",
       "        [0.16203735, 0.31791831]]])"
      ]
     },
     "execution_count": 48,
     "metadata": {},
     "output_type": "execute_result"
    }
   ],
   "source": [
    "a2"
   ]
  },
  {
   "cell_type": "markdown",
   "id": "3751609a-a40f-475b-845c-7bcc9d9e786f",
   "metadata": {},
   "source": [
    "##Basic Maths"
   ]
  },
  {
   "cell_type": "code",
   "execution_count": 51,
   "id": "b4194e70-bfde-4995-862f-c81b75ad177f",
   "metadata": {},
   "outputs": [
    {
     "data": {
      "text/plain": [
       "array([[[1.13388436, 1.50378454],\n",
       "        [0.53496832, 1.43449833],\n",
       "        [1.12606016, 1.13045908]],\n",
       "\n",
       "       [[0.42055521, 1.4232645 ],\n",
       "        [1.86738167, 0.48639626],\n",
       "        [1.12565785, 0.59694228]]])"
      ]
     },
     "execution_count": 51,
     "metadata": {},
     "output_type": "execute_result"
    }
   ],
   "source": [
    "np.add(a1,a2)"
   ]
  },
  {
   "cell_type": "code",
   "execution_count": 52,
   "id": "191b80ba-a901-4160-94b4-61087e3ce886",
   "metadata": {},
   "outputs": [
    {
     "data": {
      "text/plain": [
       "array([[[ 0.1707154 ,  0.35962945],\n",
       "        [-0.08466674, -0.28481938],\n",
       "        [ 0.34202364,  0.77394108]],\n",
       "\n",
       "       [[ 0.11509812, -0.2977567 ],\n",
       "        [ 0.04676907,  0.23270346],\n",
       "        [ 0.80158316, -0.03889434]]])"
      ]
     },
     "execution_count": 52,
     "metadata": {},
     "output_type": "execute_result"
    }
   ],
   "source": [
    "np.subtract(a1,a2)"
   ]
  },
  {
   "cell_type": "code",
   "execution_count": 53,
   "id": "337be3ee-8637-4087-a3c1-7f63021cdc14",
   "metadata": {},
   "outputs": [
    {
     "data": {
      "text/plain": [
       "array([[[1.35448693, 1.62863759],\n",
       "        [0.72672062, 0.66868325],\n",
       "        [1.87246865, 5.34166624]],\n",
       "\n",
       "       [[1.75361238, 0.65397672],\n",
       "        [1.05137729, 2.83452949],\n",
       "        [5.94690381, 0.87765933]]])"
      ]
     },
     "execution_count": 53,
     "metadata": {},
     "output_type": "execute_result"
    }
   ],
   "source": [
    "np.divide(a1,a2)"
   ]
  },
  {
   "cell_type": "code",
   "execution_count": 54,
   "id": "451a57df-dd78-4e14-9972-42dab3121a6d",
   "metadata": {},
   "outputs": [
    {
     "data": {
      "text/plain": [
       "array([[[0.3141375 , 0.53300865],\n",
       "        [0.06975566, 0.49416585],\n",
       "        [0.28775783, 0.16973823]],\n",
       "\n",
       "       [[0.04090478, 0.4842557 ],\n",
       "        [0.87123174, 0.04560761],\n",
       "        [0.15614251, 0.08870683]]])"
      ]
     },
     "execution_count": 54,
     "metadata": {},
     "output_type": "execute_result"
    }
   ],
   "source": [
    "np.multiply(a1,a2)"
   ]
  },
  {
   "cell_type": "markdown",
   "id": "3da05318-055e-4033-bbec-be81094db0a6",
   "metadata": {},
   "source": [
    "##Statistical operrations"
   ]
  },
  {
   "cell_type": "code",
   "execution_count": 55,
   "id": "cec4e3d5-1dd2-46cb-8ea3-fa1085e38d44",
   "metadata": {},
   "outputs": [],
   "source": [
    "sqrt=np.sqrt(25)\n",
    "abs=np.abs(-2)\n",
    "power=np.power(2,8)\n",
    "log=np.log(25)\n",
    "mins=np.min(a1)\n",
    "maxs=np.max(a2)"
   ]
  },
  {
   "cell_type": "code",
   "execution_count": 56,
   "id": "de839ae5-6909-464d-a159-4a9a992cd154",
   "metadata": {},
   "outputs": [
    {
     "data": {
      "text/plain": [
       "np.float64(5.0)"
      ]
     },
     "execution_count": 56,
     "metadata": {},
     "output_type": "execute_result"
    }
   ],
   "source": [
    "sqrt"
   ]
  },
  {
   "cell_type": "code",
   "execution_count": 57,
   "id": "d3142895-2463-4da1-a31e-50a0850b703c",
   "metadata": {},
   "outputs": [
    {
     "data": {
      "text/plain": [
       "np.int64(2)"
      ]
     },
     "execution_count": 57,
     "metadata": {},
     "output_type": "execute_result"
    }
   ],
   "source": [
    "abs"
   ]
  },
  {
   "cell_type": "code",
   "execution_count": 58,
   "id": "ce0cb8a7-6c92-4e48-bdfd-0f9b44b20dee",
   "metadata": {},
   "outputs": [
    {
     "data": {
      "text/plain": [
       "np.int64(256)"
      ]
     },
     "execution_count": 58,
     "metadata": {},
     "output_type": "execute_result"
    }
   ],
   "source": [
    "power"
   ]
  },
  {
   "cell_type": "code",
   "execution_count": 59,
   "id": "8f169ddf-25f2-4729-aa15-6c26da0e1ca8",
   "metadata": {},
   "outputs": [
    {
     "data": {
      "text/plain": [
       "np.float64(3.2188758248682006)"
      ]
     },
     "execution_count": 59,
     "metadata": {},
     "output_type": "execute_result"
    }
   ],
   "source": [
    "log"
   ]
  },
  {
   "cell_type": "code",
   "execution_count": 60,
   "id": "cb3e7fb2-c529-436d-a99e-df5610f41721",
   "metadata": {},
   "outputs": [
    {
     "data": {
      "text/plain": [
       "np.float64(0.22515078808525968)"
      ]
     },
     "execution_count": 60,
     "metadata": {},
     "output_type": "execute_result"
    }
   ],
   "source": [
    "mins"
   ]
  },
  {
   "cell_type": "code",
   "execution_count": 61,
   "id": "1af0eed8-eb5c-4c18-965e-de2d0676b32a",
   "metadata": {},
   "outputs": [
    {
     "data": {
      "text/plain": [
       "np.float64(0.9103062970618049)"
      ]
     },
     "execution_count": 61,
     "metadata": {},
     "output_type": "execute_result"
    }
   ],
   "source": [
    "maxs"
   ]
  },
  {
   "cell_type": "markdown",
   "id": "8cc2918e-ea16-41bf-a315-2794d44a9cb6",
   "metadata": {},
   "source": [
    "#Update"
   ]
  },
  {
   "cell_type": "code",
   "execution_count": 63,
   "id": "ff8d9a78-20bc-4457-9f7d-8d3bc2bbff67",
   "metadata": {},
   "outputs": [
    {
     "data": {
      "text/plain": [
       "array([[[1, 2, 3],\n",
       "        [4, 5, 6]],\n",
       "\n",
       "       [[7, 8, 9],\n",
       "        [4, 2, 9]],\n",
       "\n",
       "       [[7, 8, 9],\n",
       "        [4, 2, 9]]])"
      ]
     },
     "execution_count": 63,
     "metadata": {},
     "output_type": "execute_result"
    }
   ],
   "source": [
    "arr3"
   ]
  },
  {
   "cell_type": "code",
   "execution_count": 64,
   "id": "12f349fa-bfa9-44d3-b1bb-4d3a096fcb16",
   "metadata": {},
   "outputs": [],
   "source": [
    "arr3[0,0,2] = 345"
   ]
  },
  {
   "cell_type": "code",
   "execution_count": 65,
   "id": "f5d8dda9-96a9-49f2-b735-236b44ee9449",
   "metadata": {},
   "outputs": [
    {
     "data": {
      "text/plain": [
       "array([[[  1,   2, 345],\n",
       "        [  4,   5,   6]],\n",
       "\n",
       "       [[  7,   8,   9],\n",
       "        [  4,   2,   9]],\n",
       "\n",
       "       [[  7,   8,   9],\n",
       "        [  4,   2,   9]]])"
      ]
     },
     "execution_count": 65,
     "metadata": {},
     "output_type": "execute_result"
    }
   ],
   "source": [
    "arr3"
   ]
  },
  {
   "cell_type": "code",
   "execution_count": 66,
   "id": "e7807422-89fe-4525-85ca-8f2b9230739a",
   "metadata": {},
   "outputs": [],
   "source": [
    "arr3.sort()"
   ]
  },
  {
   "cell_type": "code",
   "execution_count": 67,
   "id": "c62aa484-559a-43ad-9dea-a8192e9dee8f",
   "metadata": {},
   "outputs": [
    {
     "data": {
      "text/plain": [
       "array([[[  1,   2, 345],\n",
       "        [  4,   5,   6]],\n",
       "\n",
       "       [[  7,   8,   9],\n",
       "        [  2,   4,   9]],\n",
       "\n",
       "       [[  7,   8,   9],\n",
       "        [  2,   4,   9]]])"
      ]
     },
     "execution_count": 67,
     "metadata": {},
     "output_type": "execute_result"
    }
   ],
   "source": [
    "arr3"
   ]
  },
  {
   "cell_type": "code",
   "execution_count": 70,
   "id": "cea24836-0945-47a4-9c05-e9dc51b26380",
   "metadata": {},
   "outputs": [
    {
     "data": {
      "text/plain": [
       "(3, 2, 3)"
      ]
     },
     "execution_count": 70,
     "metadata": {},
     "output_type": "execute_result"
    }
   ],
   "source": [
    "#Reshape\n",
    "arr3.shape"
   ]
  },
  {
   "cell_type": "code",
   "execution_count": 71,
   "id": "8745e09e-155b-427a-bb29-043dfe1ff20f",
   "metadata": {},
   "outputs": [
    {
     "data": {
      "text/plain": [
       "array([[[  1,   2, 345],\n",
       "        [  4,   5,   6],\n",
       "        [  7,   8,   9]],\n",
       "\n",
       "       [[  2,   4,   9],\n",
       "        [  7,   8,   9],\n",
       "        [  2,   4,   9]]])"
      ]
     },
     "execution_count": 71,
     "metadata": {},
     "output_type": "execute_result"
    }
   ],
   "source": [
    "arr3_reshape=arr3.reshape(2,3,3)\n",
    "arr3_reshape"
   ]
  },
  {
   "cell_type": "code",
   "execution_count": 72,
   "id": "2a62070d-034e-4b89-8574-eca44daa2021",
   "metadata": {},
   "outputs": [
    {
     "data": {
      "text/plain": [
       "(2, 3, 3)"
      ]
     },
     "execution_count": 72,
     "metadata": {},
     "output_type": "execute_result"
    }
   ],
   "source": [
    "arr3_reshape.shape"
   ]
  },
  {
   "cell_type": "markdown",
   "id": "625cf334-580f-41bd-804a-07cd095a2b0e",
   "metadata": {},
   "source": [
    "#Appending and Inserting"
   ]
  },
  {
   "cell_type": "code",
   "execution_count": 73,
   "id": "de804dc7-35ad-48b4-a390-821e5103666e",
   "metadata": {},
   "outputs": [
    {
     "data": {
      "text/plain": [
       "array([[[0., 0., 0.],\n",
       "        [0., 0., 0.]],\n",
       "\n",
       "       [[0., 0., 0.],\n",
       "        [0., 0., 0.]],\n",
       "\n",
       "       [[0., 0., 0.],\n",
       "        [0., 0., 0.]]])"
      ]
     },
     "execution_count": 73,
     "metadata": {},
     "output_type": "execute_result"
    }
   ],
   "source": [
    "zeroes"
   ]
  },
  {
   "cell_type": "code",
   "execution_count": 75,
   "id": "b2d76346-31f5-4447-bb5b-14d7c617fc24",
   "metadata": {},
   "outputs": [
    {
     "data": {
      "text/plain": [
       "array([[[1., 1., 1.],\n",
       "        [1., 1., 1.]],\n",
       "\n",
       "       [[1., 1., 1.],\n",
       "        [1., 1., 1.]],\n",
       "\n",
       "       [[1., 1., 1.],\n",
       "        [1., 1., 1.]]])"
      ]
     },
     "execution_count": 75,
     "metadata": {},
     "output_type": "execute_result"
    }
   ],
   "source": [
    "#Creating an new array\n",
    "new_array=np.ones((3,2,3))\n",
    "new_array"
   ]
  },
  {
   "cell_type": "code",
   "execution_count": 76,
   "id": "b1791e73-cf78-4ff9-bed8-17edefff8f91",
   "metadata": {},
   "outputs": [],
   "source": [
    "appd=np.append(zeroes, new_array,axis=0) #axis 0= rows and axis 1 = colums"
   ]
  },
  {
   "cell_type": "code",
   "execution_count": 77,
   "id": "c2420668-9a5c-4fea-ae4d-5e13edd27f0b",
   "metadata": {},
   "outputs": [
    {
     "data": {
      "text/plain": [
       "array([[[0., 0., 0.],\n",
       "        [0., 0., 0.]],\n",
       "\n",
       "       [[0., 0., 0.],\n",
       "        [0., 0., 0.]],\n",
       "\n",
       "       [[0., 0., 0.],\n",
       "        [0., 0., 0.]],\n",
       "\n",
       "       [[1., 1., 1.],\n",
       "        [1., 1., 1.]],\n",
       "\n",
       "       [[1., 1., 1.],\n",
       "        [1., 1., 1.]],\n",
       "\n",
       "       [[1., 1., 1.],\n",
       "        [1., 1., 1.]]])"
      ]
     },
     "execution_count": 77,
     "metadata": {},
     "output_type": "execute_result"
    }
   ],
   "source": [
    "appd"
   ]
  },
  {
   "cell_type": "code",
   "execution_count": null,
   "id": "edf92dae-276c-4067-9fc2-91550e04300a",
   "metadata": {},
   "outputs": [],
   "source": []
  },
  {
   "cell_type": "markdown",
   "id": "11b0355b-6285-4f65-8584-90ea76dee71c",
   "metadata": {},
   "source": [
    "##INsert"
   ]
  },
  {
   "cell_type": "code",
   "execution_count": 78,
   "id": "8a31037d-ec09-492c-94b0-d4b120875356",
   "metadata": {},
   "outputs": [
    {
     "data": {
      "text/plain": [
       "array([[[0., 0., 0.],\n",
       "        [0., 0., 0.]],\n",
       "\n",
       "       [[0., 0., 0.],\n",
       "        [0., 0., 0.]],\n",
       "\n",
       "       [[0., 0., 0.],\n",
       "        [0., 0., 0.]]])"
      ]
     },
     "execution_count": 78,
     "metadata": {},
     "output_type": "execute_result"
    }
   ],
   "source": [
    "zeroes"
   ]
  },
  {
   "cell_type": "code",
   "execution_count": 79,
   "id": "a5e8c180-7b0e-4528-be84-9439c5ecc8d3",
   "metadata": {},
   "outputs": [
    {
     "data": {
      "text/plain": [
       "array([[[1., 1., 1.],\n",
       "        [1., 1., 1.]],\n",
       "\n",
       "       [[1., 1., 1.],\n",
       "        [1., 1., 1.]],\n",
       "\n",
       "       [[1., 1., 1.],\n",
       "        [1., 1., 1.]]])"
      ]
     },
     "execution_count": 79,
     "metadata": {},
     "output_type": "execute_result"
    }
   ],
   "source": [
    "ones"
   ]
  },
  {
   "cell_type": "code",
   "execution_count": 80,
   "id": "e907232a-cb33-466f-b6e5-3182b05b7227",
   "metadata": {},
   "outputs": [],
   "source": [
    "inserted_array=np.insert(zeroes,1,ones, axis=0)"
   ]
  },
  {
   "cell_type": "code",
   "execution_count": 81,
   "id": "19a684a0-8c18-4ce4-925d-297fb6cc8c5c",
   "metadata": {},
   "outputs": [
    {
     "data": {
      "text/plain": [
       "array([[[0., 0., 0.],\n",
       "        [0., 0., 0.]],\n",
       "\n",
       "       [[1., 1., 1.],\n",
       "        [1., 1., 1.]],\n",
       "\n",
       "       [[1., 1., 1.],\n",
       "        [1., 1., 1.]],\n",
       "\n",
       "       [[1., 1., 1.],\n",
       "        [1., 1., 1.]],\n",
       "\n",
       "       [[0., 0., 0.],\n",
       "        [0., 0., 0.]],\n",
       "\n",
       "       [[0., 0., 0.],\n",
       "        [0., 0., 0.]]])"
      ]
     },
     "execution_count": 81,
     "metadata": {},
     "output_type": "execute_result"
    }
   ],
   "source": [
    "inserted_array"
   ]
  },
  {
   "cell_type": "markdown",
   "id": "144bc0f7-78a1-435d-83ab-1e9092314a5a",
   "metadata": {},
   "source": [
    "##Delete1m"
   ]
  },
  {
   "cell_type": "code",
   "execution_count": 84,
   "id": "9ac227ad-235a-45a0-a917-5559e622e449",
   "metadata": {},
   "outputs": [],
   "source": [
    "arr4=np.random.rand(3,2,3)"
   ]
  },
  {
   "cell_type": "code",
   "execution_count": 85,
   "id": "925b7dae-308b-4d65-a52c-5154bb81b1ef",
   "metadata": {},
   "outputs": [
    {
     "data": {
      "text/plain": [
       "array([[[0.51886787, 0.09304689, 0.41119154],\n",
       "        [0.58439547, 0.5050291 , 0.02532696]],\n",
       "\n",
       "       [[0.33828568, 0.70543275, 0.07591194],\n",
       "        [0.14563219, 0.20943285, 0.78338342]],\n",
       "\n",
       "       [[0.25881348, 0.70479464, 0.96871619],\n",
       "        [0.62001518, 0.68273586, 0.1278759 ]]])"
      ]
     },
     "execution_count": 85,
     "metadata": {},
     "output_type": "execute_result"
    }
   ],
   "source": [
    "arr4"
   ]
  },
  {
   "cell_type": "code",
   "execution_count": 89,
   "id": "683cbeb9-a5ea-4bb0-b48b-94fdbc065ffd",
   "metadata": {},
   "outputs": [],
   "source": [
    "#delete the array\n",
    "arr5=np.delete(arr4,0,axis=1)"
   ]
  },
  {
   "cell_type": "code",
   "execution_count": 90,
   "id": "cfe94b66-a448-4797-a728-8af574a839ae",
   "metadata": {},
   "outputs": [
    {
     "data": {
      "text/plain": [
       "array([[[0.58439547, 0.5050291 , 0.02532696]],\n",
       "\n",
       "       [[0.14563219, 0.20943285, 0.78338342]],\n",
       "\n",
       "       [[0.62001518, 0.68273586, 0.1278759 ]]])"
      ]
     },
     "execution_count": 90,
     "metadata": {},
     "output_type": "execute_result"
    }
   ],
   "source": [
    "arr5"
   ]
  },
  {
   "cell_type": "code",
   "execution_count": 91,
   "id": "30f43dd7-9238-4326-a01b-8e0db2bc3d15",
   "metadata": {},
   "outputs": [],
   "source": [
    "np.save(\"new_array\",arr5)"
   ]
  },
  {
   "cell_type": "code",
   "execution_count": 92,
   "id": "74a77a6a-c4c8-4a3f-99b9-7ac1a594b11a",
   "metadata": {},
   "outputs": [
    {
     "data": {
      "text/plain": [
       "array([[[0.58439547, 0.5050291 , 0.02532696]],\n",
       "\n",
       "       [[0.14563219, 0.20943285, 0.78338342]],\n",
       "\n",
       "       [[0.62001518, 0.68273586, 0.1278759 ]]])"
      ]
     },
     "execution_count": 92,
     "metadata": {},
     "output_type": "execute_result"
    }
   ],
   "source": [
    "np.load(\"new_array.npy\")"
   ]
  },
  {
   "cell_type": "code",
   "execution_count": null,
   "id": "e8a6ae20-23dd-499a-9cea-291ba3359e01",
   "metadata": {},
   "outputs": [],
   "source": []
  }
 ],
 "metadata": {
  "kernelspec": {
   "display_name": "Python 3 (ipykernel)",
   "language": "python",
   "name": "python3"
  },
  "language_info": {
   "codemirror_mode": {
    "name": "ipython",
    "version": 3
   },
   "file_extension": ".py",
   "mimetype": "text/x-python",
   "name": "python",
   "nbconvert_exporter": "python",
   "pygments_lexer": "ipython3",
   "version": "3.13.5"
  }
 },
 "nbformat": 4,
 "nbformat_minor": 5
}
